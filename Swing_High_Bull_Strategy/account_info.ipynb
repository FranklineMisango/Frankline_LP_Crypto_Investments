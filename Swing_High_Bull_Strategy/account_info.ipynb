{
 "cells": [
  {
   "cell_type": "code",
   "execution_count": 1,
   "metadata": {},
   "outputs": [],
   "source": [
    "from dotenv import load_dotenv\n",
    "load_dotenv()\n",
    "from datetime import datetime as dt\n",
    "from datetime import timedelta\n",
    "import csv\n",
    "import time\n",
    "import pytz\n",
    "from binance.client import Client\n",
    "import pandas as pd\n",
    "import os\n",
    "from binance.spot import Spot\n",
    "\n",
    "client = Spot()\n",
    "client = Spot(api_key=os.getenv('Binance_API_KEY'), api_secret=os.getenv('Binance_secret_KEY'))\n"
   ]
  },
  {
   "cell_type": "code",
   "execution_count": 16,
   "metadata": {},
   "outputs": [],
   "source": [
    "# Get the Account Information and print as a list and not a dictionary\n",
    "account_info = client.account()\n",
    "account_info = account_info['balances']\n",
    "for item in account_info:\n",
    "    if item['asset'] == 'USDT':\n",
    "        print(item)"
   ]
  },
  {
   "cell_type": "code",
   "execution_count": 10,
   "metadata": {},
   "outputs": [],
   "source": [
    "# Load the market data for all tickers with USDT\n",
    "market_data = client.exchange_info()\n",
    "market_data = market_data['symbols']\n",
    "tickers = []    "
   ]
  },
  {
   "cell_type": "code",
   "execution_count": null,
   "metadata": {},
   "outputs": [],
   "source": [
    "tickers = [item['symbol'] for item in market_data if item['symbol'].endswith('USDT')]\n",
    "print(tickers)"
   ]
  },
  {
   "cell_type": "code",
   "execution_count": null,
   "metadata": {},
   "outputs": [],
   "source": [
    "# Fetch the historical data for the tickers\n",
    "def fetch_historical_data(ticker):\n",
    "    data = client.klines(symbol=ticker, interval=Client.KLINE_INTERVAL_1HOUR)\n",
    "    data = pd.DataFrame(data, columns = ['timestamp', 'open', 'high', 'low', 'close', 'volume', 'close_time', 'quote_av', 'trades', 'tb_base_av', 'tb_quote_av', 'ignore'])\n",
    "    data['timestamp'] = pd.to_datetime(data['timestamp'], unit='ms')\n",
    "    data.set_index('timestamp', inplace=True)\n",
    "    return data\n",
    "\n",
    "# Fetch the historical data for all tickers\n",
    "historical_data = {}\n",
    "for ticker in tickers:\n",
    "    historical_data[ticker] = fetch_historical_data(ticker)\n",
    "    time.sleep(1)"
   ]
  },
  {
   "cell_type": "code",
   "execution_count": 17,
   "metadata": {},
   "outputs": [],
   "source": [
    "# Try getting position size of each coin in my portfolio\n",
    "def get_position_size(ticker):\n",
    "    account_info = client.account()\n",
    "    account_info = account_info['balances']\n",
    "    for item in account_info:\n",
    "        if item['asset'] == ticker:\n",
    "            return float(item['free'])\n",
    "    return 0\n",
    "\n",
    "get_position_size('VTHO')"
   ]
  },
  {
   "cell_type": "code",
   "execution_count": null,
   "metadata": {},
   "outputs": [],
   "source": [
    "# Try buying a new coin \n",
    "def buy(ticker, quantity):\n",
    "    order = client.create_order(symbol=ticker, side='BUY', type='MARKET', quantity=quantity)\n",
    "    return order              "
   ]
  },
  {
   "cell_type": "code",
   "execution_count": 21,
   "metadata": {},
   "outputs": [],
   "source": [
    "# Try selling a coin\n",
    "def sell(ticker, quantity):\n",
    "    order = client.new_order(symbol=ticker, side='SELL', type='MARKET', quantity=quantity)\n",
    "\n",
    "    return order\n",
    "\n",
    "sell('VTHOUSDT', 0.08)"
   ]
  },
  {
   "cell_type": "code",
   "execution_count": null,
   "metadata": {},
   "outputs": [],
   "source": [
    "# try getting exchange info\n",
    "exchange_info = client.exchange_info()\n",
    "exchange_info = exchange_info['symbols']\n",
    "exchange_info = pd.DataFrame(exchange_info)\n",
    "exchange_info = exchange_info[exchange_info['symbol'].isin(tickers)]\n",
    "exchange_info = exchange_info[['symbol', 'baseAsset', 'quoteAsset', 'filters']]\n",
    "exchange_info = exchange_info.reset_index(drop=True)\n",
    "print(exchange_info[])"
   ]
  },
  {
   "cell_type": "code",
   "execution_count": 8,
   "metadata": {},
   "outputs": [],
   "source": [
    "# quickly sell all coins in my portfolio\n",
    "def sell_all():\n",
    "    account_info = client.account()\n",
    "    account_info = account_info['balances']\n",
    "    for item in account_info:\n",
    "        if float(item['free']) > 0:\n",
    "            ticker = item['asset'] + 'USDT'\n",
    "            quantity = float(item['free'])\n",
    "            order = client.create_order(symbol=ticker, side='SELL', type='MARKET', quantity=quantity)\n",
    "            print(order)\n",
    "            time.sleep(1)"
   ]
  }
 ],
 "metadata": {
  "kernelspec": {
   "display_name": "Frankline_LP_Crypto_Investments-BBK7FM3X",
   "language": "python",
   "name": "python3"
  },
  "language_info": {
   "codemirror_mode": {
    "name": "ipython",
    "version": 3
   },
   "file_extension": ".py",
   "mimetype": "text/x-python",
   "name": "python",
   "nbconvert_exporter": "python",
   "pygments_lexer": "ipython3",
   "version": "3.12.1"
  }
 },
 "nbformat": 4,
 "nbformat_minor": 2
}
